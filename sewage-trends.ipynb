{
 "cells": [
  {
   "cell_type": "markdown",
   "metadata": {},
   "source": [
    "# Visualisatie riool data\n",
    "## Data importeren"
   ]
  },
  {
   "cell_type": "code",
   "execution_count": null,
   "metadata": {},
   "outputs": [],
   "source": [
    "import pandas as pd\n",
    "import seaborn as sns\n",
    "import matplotlib.pyplot as plt\n",
    "import matplotlib.dates as mdates\n",
    "import geopandas as gpd\n",
    "from datetime import date,datetime,timedelta\n",
    "from matplotlib.ticker import ScalarFormatter\n",
    "import numpy as np\n",
    "from matplotlib.colors import LinearSegmentedColormap, to_rgba_array"
   ]
  },
  {
   "cell_type": "code",
   "execution_count": null,
   "metadata": {},
   "outputs": [],
   "source": [
    "\n",
    "sewage_rows = []\n",
    "for vr in range(1,26):\n",
    "    sewage_import = pd.read_json(\"https://coronadashboard.rijksoverheid.nl/json/VR{:02d}.json\".format(vr))\n",
    "    for row in sewage_import['sewer']['values']:\n",
    "        sewage_rows.append({\n",
    "            'VR': 'VR{:02d}'.format(vr),\n",
    "            'Date': pd.to_datetime(row['date_unix'], unit=\"s\"),\n",
    "            'VirusParts': row['average']\n",
    "        })\n",
    "\n",
    "sewer = pd.DataFrame(sewage_rows)\n",
    "dateOfStats = sewer.Date.max()\n",
    "sewer"
   ]
  },
  {
   "cell_type": "code",
   "execution_count": null,
   "metadata": {},
   "outputs": [],
   "source": [
    "vrNames = pd.read_csv('https://raw.githubusercontent.com/mzelst/covid-19/master/misc/nursery-homes-locations.csv').drop(columns=['Aantal_locaties'])\n",
    "sewer = sewer.join(vrNames.set_index('Security_region_code'), on='VR')\n",
    "sewer"
   ]
  },
  {
   "cell_type": "code",
   "execution_count": null,
   "metadata": {},
   "outputs": [],
   "source": [
    "map_data = gpd.read_file(\"https://cartomap.github.io/nl/wgs84/veiligheidsregio_2021.geojson\")\n",
    "map_data"
   ]
  },
  {
   "cell_type": "markdown",
   "metadata": {},
   "source": [
    "## Data voorbereiden"
   ]
  },
  {
   "cell_type": "code",
   "execution_count": null,
   "metadata": {},
   "outputs": [],
   "source": [
    "sewer_growth = sewer.copy().groupby(by=['VR', 'Security_region_name']).rolling(on=\"Date\", window=7).mean()\n",
    "sewer_growth['VirusGrowth_7d'] = sewer_growth.VirusParts.pct_change().replace([np.inf, -np.inf], 0).fillna(0).rolling(window=7).mean() * 100\n",
    "sewer_growth = sewer_growth.reset_index()\n",
    "sewer_growth\n",
    "\n",
    "#sum7d_totals = ageGroupStats.copy().groupby(by=[\"GGD_name\", \"Age_group\"]).rolling(on=\"Date\", window=7).sum().reset_index()\n",
    "#sum7d_totals[\"growth\"] = sum7d_totals.Positive_cases.rolling(window=7).sum().pct_change().replace([np.inf, -np.inf], 0).fillna(0).rolling(window=7).mean() * 100\n",
    "#sum7d_totals\n"
   ]
  },
  {
   "cell_type": "code",
   "execution_count": null,
   "metadata": {},
   "outputs": [],
   "source": [
    "fallers = sewer_growth[(sewer_growth.Date == dateOfStats) & (sewer_growth.VirusGrowth_7d < -5)].VR.to_list()\n",
    "risers = sewer_growth[(sewer_growth.Date == dateOfStats) & (sewer_growth.VirusGrowth_7d >= 0)].VR.to_list()"
   ]
  },
  {
   "cell_type": "code",
   "execution_count": null,
   "metadata": {},
   "outputs": [],
   "source": [
    "mins = sewer_growth.groupby(by=[\"Date\"]).min()\n",
    "maxs = sewer_growth.groupby(by=[\"Date\"]).max()\n",
    "medians = sewer_growth.groupby(by=[\"Date\"]).median()\n",
    "avg = sewer_growth.groupby(by=[\"Date\"]).mean()\n",
    "avg[\"min\"] = mins.VirusGrowth_7d\n",
    "avg[\"max\"] = maxs.VirusGrowth_7d\n",
    "avg[\"median\"] = medians.VirusGrowth_7d\n",
    "avg = avg.reset_index()\n",
    "avg"
   ]
  },
  {
   "cell_type": "markdown",
   "metadata": {},
   "source": [
    "## Plots configureren"
   ]
  },
  {
   "cell_type": "code",
   "execution_count": null,
   "metadata": {},
   "outputs": [],
   "source": [
    "sns.set_style(\"whitegrid\")\n",
    "sns.set_context(\"talk\", font_scale=1, rc={\"lines.linewidth\": 3, \"font.size\":10,\"axes.titlesize\":24,\"axes.labelsize\":18})\n",
    "sns.set_palette(sns.color_palette(['#CC6677', '#332288', '#DDCC77', '#117733', '#88CCEE', \\\n",
    "                    '#882255', '#44AA99', '#999933', '#AA4499', '#DDDDDD', \\\n",
    "                    '#000000']))\n",
    "\n",
    "def tuftefy(ax):\n",
    "    \"\"\"Remove spines and tick position markers to reduce ink.\"\"\"\n",
    "    # \n",
    "    ax.spines[\"top\"].set_visible(False)\n",
    "    ax.spines[\"right\"].set_visible(False)\n",
    "    ax.spines[\"left\"].set_visible(False)\n",
    "    ax.spines[\"bottom\"].set_visible(True)\n",
    "    ax.spines[\"bottom\"].set_color('grey')\n",
    "\n",
    "    ax.grid(color=\"w\", alpha=0.5)\n",
    "    ax.get_yaxis().grid(True)\n",
    "    ax.get_xaxis().grid(False)\n",
    "\n",
    "def fancy_titles(t1, t2, ax=None):\n",
    "  if ax:\n",
    "    ax.set_title(t1, loc='left', fontsize=18)\n",
    "    ax.set_title(t2, loc='right', fontsize=13, color='grey')\n",
    "  else:\n",
    "    plt.title(t1, loc='left', fontsize=18)\n",
    "    plt.title(t2, loc='right', fontsize=13, color='grey')\n",
    "\n",
    "def __BuRd():\n",
    "    \"\"\"\n",
    "    Define colormap 'BuRd'.\n",
    "    \"\"\"\n",
    "    clrs = ['#2166AC', '#4393C3', '#92C5DE', '#D1E5F0', '#F7F7F7',\n",
    "            '#FDDBC7', '#F4A582', '#D6604D', '#B2182B']\n",
    "    return LinearSegmentedColormap.from_list('BuRd', clrs)"
   ]
  },
  {
   "cell_type": "markdown",
   "metadata": {},
   "source": [
    "## Plots"
   ]
  },
  {
   "cell_type": "markdown",
   "metadata": {},
   "source": [
    "### Trends"
   ]
  },
  {
   "cell_type": "code",
   "execution_count": null,
   "metadata": {},
   "outputs": [],
   "source": [
    "fig = plt.figure()\n",
    "fig.set_size_inches(16, 10)\n",
    "\n",
    "dt = sewer_growth[sewer_growth.Date > '2021-11-30']\n",
    "g = sns.lineplot(data=dt, x='Date', y='VirusGrowth_7d', hue='VR')\n",
    "plt.axhline(y=0.0, ls='-', c='.8', zorder=1)\n",
    "tuftefy(g)\n",
    "g.xaxis.set_major_formatter(mdates.ConciseDateFormatter(mdates.AutoDateLocator()))\n",
    "g.set_title(\"Riooldeeltjes groei per Veiligheids regio\", fontdict={'fontsize':14,'fontweight': 'bold'})\n",
    "g.set(xlabel=\"\", ylabel=\"Groei (%)\")\n",
    "g.text(dt.Date.min(), dt.VirusGrowth_7d.min(), \"bron: corona dashboard update \" + dateOfStats.strftime('%Y-%m-%d'), ha=\"left\", fontsize=10, color='grey')\n",
    "plt.legend(bbox_to_anchor=(1.05, 1), loc='upper left', borderaxespad=0)"
   ]
  },
  {
   "cell_type": "code",
   "execution_count": null,
   "metadata": {},
   "outputs": [],
   "source": [
    "fig = plt.figure()\n",
    "fig.set_size_inches(16, 10)\n",
    "\n",
    "dt = sewer_growth[sewer_growth.Date > '2021-11-30']\n",
    "g = sns.scatterplot(data=dt, x='Date', y='VirusGrowth_7d', hue='VR')\n",
    "plt.axhline(y=0.0, ls='-', c='.8', zorder=1)\n",
    "tuftefy(g)\n",
    "g.xaxis.set_major_formatter(mdates.ConciseDateFormatter(mdates.AutoDateLocator()))\n",
    "g.set_title(\"Riooldeeltjes groei per Veiligheids regio\", fontdict={'fontsize':14,'fontweight': 'bold'})\n",
    "g.set(xlabel=\"\", ylabel=\"Groei (%)\")\n",
    "g.text(dt.Date.min(), dt.VirusGrowth_7d.min(), \"bron: corona dashboard update \" + dateOfStats.strftime('%Y-%m-%d'), ha=\"left\", fontsize=10, color='grey')\n",
    "plt.legend(bbox_to_anchor=(1.05, 1), loc='upper left', borderaxespad=0)"
   ]
  },
  {
   "cell_type": "code",
   "execution_count": null,
   "metadata": {},
   "outputs": [],
   "source": [
    "fig = plt.figure()\n",
    "fig.set_size_inches(8, 6)\n",
    "dt = avg[avg.Date > '2021-12-31']\n",
    "g = sns.lineplot(data=dt, x='Date', y='median')\n",
    "plt.fill_between(data=dt, x='Date', y1='min', y2='max',zorder=1, alpha=0.2)\n",
    "plt.axhline(y=0.0, ls='-', c='.8', zorder=1)\n",
    "tuftefy(g)\n",
    "g.xaxis.set_major_formatter(mdates.ConciseDateFormatter(mdates.AutoDateLocator()))\n",
    "g.set_title(\"Riooldeeltjes groei per Veiligheids regio\", fontdict={'fontsize':14,'fontweight': 'bold'})\n",
    "g.set(xlabel=\"\", ylabel=\"Groei (%)\")\n",
    "g.text(dt.Date.min(), dt['min'].min(), \"bron: corona dashboard update \" + dateOfStats.strftime('%Y-%m-%d'), ha=\"left\", fontsize=10, color='grey')"
   ]
  },
  {
   "cell_type": "code",
   "execution_count": null,
   "metadata": {},
   "outputs": [],
   "source": [
    "fig = plt.figure()\n",
    "fig.set_size_inches(16, 10)\n",
    "\n",
    "dt = sewer_growth[sewer_growth.Date > '2021-11-30'].copy()\n",
    "dt['Categorie'] = 'Stabiel'\n",
    "dt.loc[dt.VR.isin(fallers), 'Categorie'] = 'Dalers'\n",
    "dt.loc[dt.VR.isin(risers), 'Categorie'] = 'Stijgers'\n",
    "#dt['Categorie'] = np.where(dt.VR.isin(fallers), 'Dalers', 'Stijgers')\n",
    "g = sns.lineplot(data=dt, x='Date', y='VirusGrowth_7d', hue='Categorie', ci=95, err_kws={ \"edgecolor\" : None })\n",
    "plt.axhline(y=0.0, ls='-', c='.8', zorder=1)\n",
    "tuftefy(g)\n",
    "g.xaxis.set_major_formatter(mdates.ConciseDateFormatter(mdates.AutoDateLocator()))\n",
    "g.set_title(\"Riooldeeltjes groei per Veiligheids regio\", fontdict={'fontsize':14,'fontweight': 'bold'})\n",
    "g.set(xlabel=\"\", ylabel=\"Groei (%)\")\n",
    "g.text(dt.Date.min(), dt.VirusGrowth_7d.min() * 0.9, \"bron: corona dashboard update \" + dateOfStats.strftime('%Y-%m-%d'), ha=\"left\", fontsize=10, color='grey')\n",
    "#plt.legend(bbox_to_anchor=(1.05, 1), loc='upper left', borderaxespad=0)"
   ]
  },
  {
   "cell_type": "code",
   "execution_count": null,
   "metadata": {},
   "outputs": [],
   "source": [
    "\n",
    "fig = plt.figure()\n",
    "fig.set_size_inches(16, 10)\n",
    "\n",
    "dt = sewer_growth[sewer_growth.Date > '2021-11-30'].copy()\n",
    "dt['Categorie'] = 'Stijgers'\n",
    "dt.loc[dt.VR.isin(fallers), 'Categorie'] = 'Dalers'\n",
    "#dt['Categorie'] = np.where(dt.VR.isin(fallers), 'Dalers', 'Stijgers')\n",
    "g = sns.lineplot(data=dt, x='Date', y='VirusGrowth_7d', hue='Categorie', ci=95, err_kws={ \"edgecolor\" : None })\n",
    "plt.axhline(y=0.0, ls='-', c='.8', zorder=1)\n",
    "tuftefy(g)\n",
    "g.xaxis.set_major_formatter(mdates.ConciseDateFormatter(mdates.AutoDateLocator()))\n",
    "g.set_title(\"Riooldeeltjes groei per Veiligheids regio\", fontdict={'fontsize':14,'fontweight': 'bold'})\n",
    "g.set(xlabel=\"\", ylabel=\"Groei (%)\")\n",
    "g.text(dt.Date.min(), dt.VirusGrowth_7d.min() * 0.9, \"bron: corona dashboard update \" + dateOfStats.strftime('%Y-%m-%d'), ha=\"left\", fontsize=10, color='grey')\n",
    "#plt.legend(bbox_to_anchor=(1.05, 1), loc='upper left', borderaxespad=0)"
   ]
  },
  {
   "cell_type": "code",
   "execution_count": null,
   "metadata": {},
   "outputs": [],
   "source": [
    "\n",
    "fig = plt.figure()\n",
    "fig.set_size_inches(16, 10)\n",
    "\n",
    "dt = sewer_growth[sewer_growth.Date > '2020-12-31'].copy()\n",
    "dt['Categorie'] = 'Stijgers'\n",
    "dt.loc[dt.VR.isin(fallers), 'Categorie'] = 'Dalers'\n",
    "#dt['Categorie'] = np.where(dt.VR.isin(fallers), 'Dalers', 'Stijgers')\n",
    "g = sns.lineplot(data=dt, x='Date', y='VirusParts', hue='Categorie', ci=95, err_kws={ \"edgecolor\" : None })\n",
    "#plt.axhline(y=0.0, ls='-', c='.8', zorder=1)\n",
    "tuftefy(g)\n",
    "g.xaxis.set_major_formatter(mdates.ConciseDateFormatter(mdates.AutoDateLocator()))\n",
    "g.set_title(\"Riooldeeltjes per Veiligheids regio\", fontdict={'fontsize':14,'fontweight': 'bold'})\n",
    "g.set(xlabel=\"\", ylabel=\"Riooldeeltjes\")\n",
    "g.text(dt.Date.min(), dt.VirusGrowth_7d.min() * 0.9, \"bron: corona dashboard update \" + dateOfStats.strftime('%Y-%m-%d'), ha=\"left\", fontsize=10, color='grey')\n",
    "#plt.legend(bbox_to_anchor=(1.05, 1), loc='upper left', borderaxespad=0)"
   ]
  },
  {
   "cell_type": "code",
   "execution_count": null,
   "metadata": {},
   "outputs": [],
   "source": [
    "\n",
    "fig = plt.figure()\n",
    "fig.set_size_inches(16, 10)\n",
    "\n",
    "dt = sewer_growth[sewer_growth.Date > '2020-12-31'].copy()\n",
    "dt['Categorie'] = 'Stabiel'\n",
    "dt.loc[dt.VR.isin(fallers), 'Categorie'] = 'Dalers'\n",
    "dt.loc[dt.VR.isin(risers), 'Categorie'] = 'Stijgers'\n",
    "#dt['Categorie'] = np.where(dt.VR.isin(fallers), 'Dalers', 'Stijgers')\n",
    "g = sns.lineplot(data=dt, x='Date', y='VirusParts', hue='Categorie', ci=95, err_kws={ \"edgecolor\" : None })\n",
    "#plt.axhline(y=0.0, ls='-', c='.8', zorder=1)\n",
    "tuftefy(g)\n",
    "g.xaxis.set_major_formatter(mdates.ConciseDateFormatter(mdates.AutoDateLocator()))\n",
    "g.set_title(\"Riooldeeltjes per Veiligheids regio\", fontdict={'fontsize':14,'fontweight': 'bold'})\n",
    "g.set(xlabel=\"\", ylabel=\"Riooldeeltjes\")\n",
    "g.text(dt.Date.min(), dt.VirusGrowth_7d.min() * 0.9, \"bron: corona dashboard update \" + dateOfStats.strftime('%Y-%m-%d'), ha=\"left\", fontsize=10, color='grey')\n",
    "#plt.legend(bbox_to_anchor=(1.05, 1), loc='upper left', borderaxespad=0)"
   ]
  },
  {
   "cell_type": "code",
   "execution_count": null,
   "metadata": {},
   "outputs": [],
   "source": [
    "\n",
    "#fig = plt.figure()\n",
    "#fig.set_size_inches(16, 10)\n",
    "\n",
    "dt = sewer_growth[sewer_growth.Date > '2021-12-31'].copy()\n",
    "\n",
    "g = sns.relplot(data=dt, kind='line', x='Date', y ='VirusGrowth_7d', col='Security_region_name', col_wrap=5)\n",
    "g = g.map(plt.axhline, y=0.0, ls=\"-\", c=\".8\", zorder=1)\n",
    "\n",
    "for ax in g.axes:\n",
    "  ax.xaxis.set_major_formatter(mdates.ConciseDateFormatter(mdates.AutoDateLocator()))\n",
    "  ax.set(ylim=[-40, 40])\n",
    "  tuftefy(ax)\n",
    "\n",
    "g.set_titles(col_template = '{col_name}')\n",
    "g.set_axis_labels(\"\", \"Groei percentage\")\n",
    "g.despine()\n",
    "plt.tight_layout()\n",
    "\n",
    "#dt['Categorie'] = 'Stabiel'\n",
    "#dt.loc[dt.VR.isin(fallers), 'Categorie'] = 'Dalers'\n",
    "#dt.loc[dt.VR.isin(risers), 'Categorie'] = 'Stijgers'\n",
    "##dt['Categorie'] = np.where(dt.VR.isin(fallers), 'Dalers', 'Stijgers')\n",
    "#g = sns.lineplot(data=dt, x='Date', y='VirusParts', hue='Categorie', ci=95, err_kws={ \"edgecolor\" : None })\n",
    "##plt.axhline(y=0.0, ls='-', c='.8', zorder=1)\n",
    "#tuftefy(g)\n",
    "#g.xaxis.set_major_formatter(mdates.ConciseDateFormatter(mdates.AutoDateLocator()))\n",
    "#g.set_title(\"Riooldeeltjes per Veiligheids regio\", fontdict={'fontsize':14,'fontweight': 'bold'})\n",
    "#g.set(xlabel=\"\", ylabel=\"Riooldeeltjes\")\n",
    "#g.text(dt.Date.min(), dt.VirusGrowth_7d.min() * 0.9, \"bron: corona dashboard update \" + dateOfStats.strftime('%Y-%m-%d'), ha=\"left\", fontsize=10, color='grey')\n",
    "##plt.legend(bbox_to_anchor=(1.05, 1), loc='upper left', borderaxespad=0)"
   ]
  },
  {
   "cell_type": "markdown",
   "metadata": {},
   "source": [
    "## Kaartjes"
   ]
  },
  {
   "cell_type": "code",
   "execution_count": null,
   "metadata": {},
   "outputs": [],
   "source": [
    "annotated_map = map_data.copy().set_index('statcode').join(sewer_growth[sewer_growth.Date == sewer_growth.Date.max()].copy().set_index('VR'), how='left')\n",
    "\n",
    "g = annotated_map.plot(\"VirusGrowth_7d\", cmap=__BuRd(), vmin=-30, vmax=30, edgecolor=\"#cccccc\", legend=True)\n",
    "g.set_axis_off()\n",
    "plt.tight_layout()\n",
    "\n",
    "g.set_title(\"Groei riooldeeltjes\", fontdict={'fontsize':18,'fontweight': 'bold'})\n",
    "#g.set(xlabel=\"\", ylabel=\"Riooldeeltjes\")\n",
    "#g.text(dt.Date.min(), dt.VirusGrowth_7d.min() * 0.9, \"bron: corona dashboard update \" + dateOfStats.strftime('%Y-%m-%d'), ha=\"left\", fontsize=8, color='grey')\n",
    "\n",
    "#g = sns.FacetGrid(annotated_map, col=\"Security_region_name\", col_wrap=4, margin_titles=True, legend_out=True)\n",
    "#def map_plot(data, **kws):\n",
    "#    ax = plt.gca()\n",
    "#    data.plot(\"VirusGrowth_7d\", cmap=__BuRd(), ax= ax, vmin=-100, vmax=100, edgecolor=\"#cccccc\", legend=True)\n",
    "#    ax.set_axis_off()\n",
    "#\n",
    "#\n",
    "#g = g.map_dataframe(map_plot)\n",
    "#\n",
    "#g.set_titles(col_template = '{col_name}')\n",
    "#g.add_legend(loc='upper right')\n",
    "#\n",
    "#g.despine()\n",
    "#plt.tight_layout()\n",
    "#plt.subplots_adjust(hspace=0.1, wspace=0.05, top=0.93)\n",
    "#g.fig.suptitle('Groei percentage deeltjes in riool (7d gemiddelde)', size=16.0, weight='bold')\n",
    "#g.fig.text(1,0.03, \"bron: RIVM update \" + dateOfStats.strftime('%Y-%m-%d') + \" & CBS statistiek\", ha=\"right\", fontsize=12, color='grey')\n",
    "\n"
   ]
  }
 ],
 "metadata": {
  "interpreter": {
   "hash": "369f2c481f4da34e4445cda3fffd2e751bd1c4d706f27375911949ba6bb62e1c"
  },
  "kernelspec": {
   "display_name": "Python 3.10.4 64-bit",
   "language": "python",
   "name": "python3"
  },
  "language_info": {
   "codemirror_mode": {
    "name": "ipython",
    "version": 3
   },
   "file_extension": ".py",
   "mimetype": "text/x-python",
   "name": "python",
   "nbconvert_exporter": "python",
   "pygments_lexer": "ipython3",
   "version": "3.10.4"
  },
  "orig_nbformat": 4
 },
 "nbformat": 4,
 "nbformat_minor": 2
}
