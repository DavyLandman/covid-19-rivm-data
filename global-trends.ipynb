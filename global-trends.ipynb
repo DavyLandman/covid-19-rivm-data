{
 "cells": [
  {
   "cell_type": "markdown",
   "metadata": {},
   "source": [
    "# Globale trends\n",
    "## Data importeren"
   ]
  },
  {
   "cell_type": "code",
   "execution_count": null,
   "metadata": {},
   "outputs": [],
   "source": [
    "import pandas as pd\n",
    "import seaborn as sns\n",
    "import matplotlib.pyplot as plt\n",
    "import matplotlib.dates as mdates\n",
    "from datetime import date,datetime,timedelta\n",
    "from matplotlib.ticker import ScalarFormatter\n",
    "import numpy as np\n",
    "from matplotlib.colors import LinearSegmentedColormap, to_rgba_array"
   ]
  },
  {
   "cell_type": "code",
   "execution_count": null,
   "metadata": {},
   "outputs": [],
   "source": [
    "gemeentes = pd.read_csv('https://data.rivm.nl/covid-19/COVID-19_aantallen_gemeente_cumulatief.csv', parse_dates=['Date_of_report'], sep=';').drop(columns=['Hospital_admission', 'Deceased'])\n",
    "gemeentes.loc[gemeentes.Municipality_code.isnull(), 'Municipality_code'] = 'Onbekend'\n",
    "gemeentes.loc[gemeentes.Province.isnull(), 'Province'] = 'Onbekend'\n",
    "gemeentes.loc[gemeentes.Province == 'Friesland', 'Province'] = 'Fryslân'\n",
    "gemeentes = gemeentes.fillna(0)\n",
    "gemeentes"
   ]
  },
  {
   "cell_type": "code",
   "execution_count": null,
   "metadata": {},
   "outputs": [],
   "source": [
    "totalPositiveTestRatio = pd.read_csv('https://raw.githubusercontent.com/mzelst/covid-19/master/data-dashboards/percentage-positive-daily-national.csv', parse_dates=['date'])\n",
    "totalPositiveTestRatio['infected_percentage_7d'] =  totalPositiveTestRatio['values.infected_percentage'].rolling(7).mean()\n",
    "totalPositiveTestRatio['total_7d'] =  totalPositiveTestRatio['values.tested_total'].rolling(7).mean()\n",
    "totalPositiveTestRatio['positive_7d'] =  totalPositiveTestRatio['values.infected'].rolling(7).mean()\n",
    "totalPositiveTestRatio"
   ]
  },
  {
   "cell_type": "markdown",
   "metadata": {},
   "source": [
    "## Data voorbereiden"
   ]
  },
  {
   "cell_type": "code",
   "execution_count": null,
   "metadata": {},
   "outputs": [],
   "source": [
    "from datetime import datetime\n",
    "totals = gemeentes.groupby(by=['Date_of_report']).sum().diff().reset_index()\n",
    "totals['rolling'] = totals.Total_reported.rolling(window=7).mean()\n",
    "#totals['rolling_100k'] = totals['rolling'] * (100000 / 17454856) \n",
    "totals['rolling14'] = totals.Total_reported.rolling(window=14).mean()\n",
    "#totals['rolling14_100k'] = totals.rolling14 *  (100000 / 17454856)\n",
    "totals"
   ]
  },
  {
   "cell_type": "code",
   "execution_count": null,
   "metadata": {},
   "outputs": [],
   "source": [
    "perWeek = totals.copy()\n",
    "perWeek['week'] = perWeek.Date_of_report.dt.isocalendar().week\n",
    "perWeek['year'] = perWeek.Date_of_report.dt.isocalendar().year\n",
    "weekTotals = perWeek.groupby(by=['year', 'week']).mean()\n",
    "weekTotals.drop(columns=['rolling', 'rolling14'], inplace=True)\n",
    "weekTotals.rename(columns={'Total_reported': 'WeekTotalReported', 'Hospital_admission': 'WeekHospitalAdmission', 'Deceased' : 'WeekDeceased'}, inplace=True)\n",
    "perWeek = perWeek.set_index(['year','week']).join(weekTotals).reset_index()\n",
    "perWeek['Reported_ratio'] = (perWeek.Total_reported / perWeek.WeekTotalReported)\n",
    "\n",
    "dayOfWeek={0:'Maandag', 1:'Dinsdag', 2:'Woensdag', 3:'Donderdag', 4:'Vrijdag', 5:'Zaterdag', 6:'Zondag'}\n",
    "perWeek['weekday'] = perWeek.Date_of_report.dt.dayofweek.map(dayOfWeek)\n",
    "perWeek['month'] = perWeek.Date_of_report.dt.month\n",
    "perWeek['date'] = pd.to_datetime(perWeek.year.apply(str) + '-W' + perWeek.week.apply(str) + '-7', format='%G-W%V-%u')\n",
    "display(perWeek)\n",
    "\n",
    "dayToWeekAvg = totals.copy()\n",
    "dayToWeekAvg['week'] = dayToWeekAvg.Date_of_report.dt.isocalendar().week\n",
    "dayToWeekAvg['year'] = dayToWeekAvg.Date_of_report.dt.isocalendar().year\n",
    "dayToWeekAvg['date'] = pd.to_datetime(dayToWeekAvg.year.apply(str) + '-W' + dayToWeekAvg.week.apply(str) + '-7', format='%G-W%V-%u')\n",
    "dayToWeekAvg['RatioWeekAvg'] = dayToWeekAvg.Total_reported / dayToWeekAvg['rolling'].shift(1)\n",
    "dayToWeekAvg['AboveAverage'] = dayToWeekAvg.RatioWeekAvg > 1\n",
    "dayToWeekAvg['weekday'] = dayToWeekAvg.Date_of_report.dt.dayofweek.map(dayOfWeek)\n",
    "display(dayToWeekAvg)"
   ]
  },
  {
   "cell_type": "markdown",
   "metadata": {},
   "source": [
    "## Plots configureren"
   ]
  },
  {
   "cell_type": "code",
   "execution_count": null,
   "metadata": {},
   "outputs": [],
   "source": [
    "sns.set_style(\"whitegrid\")\n",
    "sns.set_context(\"talk\", font_scale=1, rc={\"lines.linewidth\": 3, \"font.size\":10,\"axes.titlesize\":24,\"axes.labelsize\":18})\n",
    "sns.set_palette(sns.color_palette(['#CC6677', '#332288', '#DDCC77', '#117733', '#88CCEE', \\\n",
    "                    '#882255', '#44AA99', '#999933', '#AA4499', '#DDDDDD', \\\n",
    "                    '#000000']))\n",
    "\n",
    "def discretemap(colormap, hexclrs):\n",
    "    \"\"\"\n",
    "    Produce a colormap from a list of discrete colors without interpolation.\n",
    "    \"\"\"\n",
    "    clrs = to_rgba_array(hexclrs)\n",
    "    clrs = np.vstack([clrs[0], clrs, clrs[-1]])\n",
    "    cdict = {}\n",
    "    for ki, key in enumerate(('red','green','blue')):\n",
    "        cdict[key] = [ (i/(len(clrs)-2.), clrs[i, ki], clrs[i+1, ki]) for i in range(len(clrs)-1) ]\n",
    "    return LinearSegmentedColormap(colormap, cdict)\n",
    "\n",
    "def __rainbow_WhBr():\n",
    "    \"\"\"\n",
    "    Define colormap 'rainbow_WhBr'.\n",
    "    \"\"\"\n",
    "    clrs = ['#E8ECFB', '#DDD8EF', '#D1C1E1', '#C3A8D1', '#B58FC2',\n",
    "            '#A778B4', '#9B62A7', '#8C4E99', '#6F4C9B', '#6059A9',\n",
    "            '#5568B8', '#4E79C5', '#4D8AC6', '#4E96BC', '#549EB3',\n",
    "            '#59A5A9', '#60AB9E', '#69B190', '#77B77D', '#8CBC68',\n",
    "            '#A6BE54', '#BEBC48', '#D1B541', '#DDAA3C', '#E49C39',\n",
    "            '#E78C35', '#E67932', '#E4632D', '#DF4828', '#DA2222',\n",
    "            '#B8221E', '#95211B', '#721E17', '#521A13']\n",
    "    return LinearSegmentedColormap.from_list(\"Rainbo_WhBr\", clrs)\n",
    "    #self.cmap.set_bad('#666666')\n",
    "\n",
    "def __iridescent():\n",
    "    \"\"\"\n",
    "    Define colormap 'iridescent'.\n",
    "    \"\"\"\n",
    "    clrs = ['#FEFBE9', '#FCF7D5', '#F5F3C1', '#EAF0B5', '#DDECBF',\n",
    "            '#D0E7CA', '#C2E3D2', '#B5DDD8', '#A8D8DC', '#9BD2E1',\n",
    "            '#8DCBE4', '#81C4E7', '#7BBCE7', '#7EB2E4', '#88A5DD',\n",
    "            '#9398D2', '#9B8AC4', '#9D7DB2', '#9A709E', '#906388',\n",
    "            '#805770', '#684957', '#46353A']\n",
    "    return LinearSegmentedColormap.from_list(\"iridescent\", clrs)\n",
    "    #self.cmap.set_bad('#999999')\n",
    "\n",
    "def __YlOrBr():\n",
    "    \"\"\"\n",
    "    Define colormap 'YlOrBr'.\n",
    "    \"\"\"\n",
    "    clrs = ['#FFFFE5', '#FFF7BC', '#FEE391', '#FEC44F', '#FB9A29',\n",
    "            '#EC7014', '#CC4C02', '#993404', '#662506']\n",
    "    return LinearSegmentedColormap.from_list('YlOrBr', clrs)\n",
    "    #self.cmap.set_bad('#888888')\n",
    "\n",
    "def __BuRd():\n",
    "    \"\"\"\n",
    "    Define colormap 'BuRd'.\n",
    "    \"\"\"\n",
    "    clrs = ['#2166AC', '#4393C3', '#92C5DE', '#D1E5F0', '#F7F7F7',\n",
    "            '#FDDBC7', '#F4A582', '#D6604D', '#B2182B']\n",
    "    return LinearSegmentedColormap.from_list('BuRd', clrs)\n",
    "\n",
    "def __rainbow_discrete(self, lut=None):\n",
    "    \"\"\"\n",
    "    Define colormap 'rainbow_discrete'.\n",
    "    \"\"\"\n",
    "    clrs = ['#E8ECFB', '#D9CCE3', '#D1BBD7', '#CAACCB', '#BA8DB4',\n",
    "            '#AE76A3', '#AA6F9E', '#994F88', '#882E72', '#1965B0',\n",
    "            '#437DBF', '#5289C7', '#6195CF', '#7BAFDE', '#4EB265',\n",
    "            '#90C987', '#CAE0AB', '#F7F056', '#F7CB45', '#F6C141',\n",
    "            '#F4A736', '#F1932D', '#EE8026', '#E8601C', '#E65518',\n",
    "            '#DC050C', '#A5170E', '#72190E', '#42150A']\n",
    "    indexes = [[9], [9, 25], [9, 17, 25], [9, 14, 17, 25], [9, 13, 14, 17,\n",
    "            25], [9, 13, 14, 16, 17, 25], [8, 9, 13, 14, 16, 17, 25], [8,\n",
    "            9, 13, 14, 16, 17, 22, 25], [8, 9, 13, 14, 16, 17, 22, 25, 27],\n",
    "            [8, 9, 13, 14, 16, 17, 20, 23, 25, 27], [8, 9, 11, 13, 14, 16,\n",
    "            17, 20, 23, 25, 27], [2, 5, 8, 9, 11, 13, 14, 16, 17, 20, 23,\n",
    "            25], [2, 5, 8, 9, 11, 13, 14, 15, 16, 17, 20, 23, 25], [2, 5,\n",
    "            8, 9, 11, 13, 14, 15, 16, 17, 19, 21, 23, 25], [2, 5, 8, 9, 11,\n",
    "            13, 14, 15, 16, 17, 19, 21, 23, 25, 27], [2, 4, 6, 8, 9, 11,\n",
    "            13, 14, 15, 16, 17, 19, 21, 23, 25, 27], [2, 4, 6, 7, 8, 9, 11,\n",
    "            13, 14, 15, 16, 17, 19, 21, 23, 25, 27], [2, 4, 6, 7, 8, 9, 11,\n",
    "            13, 14, 15, 16, 17, 19, 21, 23, 25, 26, 27], [1, 3, 4, 6, 7, 8,\n",
    "            9, 11, 13, 14, 15, 16, 17, 19, 21, 23, 25, 26, 27], [1, 3, 4,\n",
    "            6, 7, 8, 9, 10, 12, 13, 14, 15, 16, 17, 19, 21, 23, 25, 26,\n",
    "            27], [1, 3, 4, 6, 7, 8, 9, 10, 12, 13, 14, 15, 16, 17, 18, 20,\n",
    "            22, 24, 25, 26, 27], [1, 3, 4, 6, 7, 8, 9, 10, 12, 13, 14, 15,\n",
    "            16, 17, 18, 20, 22, 24, 25, 26, 27, 28], [0, 1, 3, 4, 6, 7, 8,\n",
    "            9, 10, 12, 13, 14, 15, 16, 17, 18, 20, 22, 24, 25, 26, 27, 28]]\n",
    "    if lut == None or lut < 1 or lut > 23:\n",
    "        lut = 22\n",
    "    self.cmap = discretemap(self.cname, [ clrs[i] for i in indexes[lut-1] ])\n",
    "    if lut == 23:\n",
    "        self.cmap.set_bad('#777777')\n",
    "    else:\n",
    "        self.cmap.set_bad('#FFFFFF')"
   ]
  },
  {
   "cell_type": "code",
   "execution_count": null,
   "metadata": {},
   "outputs": [],
   "source": [
    "def tuftefy(ax):\n",
    "    \"\"\"Remove spines and tick position markers to reduce ink.\"\"\"\n",
    "    # \n",
    "    ax.spines[\"top\"].set_visible(False)\n",
    "    ax.spines[\"right\"].set_visible(False)\n",
    "    ax.spines[\"left\"].set_visible(False)\n",
    "    ax.spines[\"bottom\"].set_visible(True)\n",
    "    ax.spines[\"bottom\"].set_color('grey')\n",
    "\n",
    "    ax.grid(color=\"w\", alpha=0.5)\n",
    "    ax.get_yaxis().grid(True)\n",
    "    ax.get_xaxis().grid(False)\n",
    "\n",
    "def fancy_titles(t1, t2, ax=None):\n",
    "  if ax:\n",
    "    ax.set_title(t1, loc='left', fontsize=18)\n",
    "    ax.set_title(t2, loc='right', fontsize=13, color='grey')\n",
    "  else:\n",
    "    plt.title(t1, loc='left', fontsize=18)\n",
    "    plt.title(t2, loc='right', fontsize=13, color='grey')"
   ]
  },
  {
   "cell_type": "markdown",
   "metadata": {},
   "source": [
    "## Plots\n",
    "### Week gemiddeld"
   ]
  },
  {
   "cell_type": "code",
   "execution_count": null,
   "metadata": {},
   "outputs": [],
   "source": [
    "#sns.set_context(\"talk\")\n",
    "fig = plt.gcf()\n",
    "fig.set_size_inches(15, 6)\n",
    "e =sns.violinplot(x=\"weekday\", linewidth=2, y=\"Reported_ratio\", data=perWeek[perWeek.Date_of_report >= '2020-09-01'], order=[\"Maandag\", \"Dinsdag\", \"Woensdag\", \"Donderdag\", \"Vrijdag\", \"Zaterdag\", \"Zondag\"], inner=None, color='#ccc', scale_hue=False, cut=0.5, bw=0.4)\n",
    "e =sns.stripplot(x=\"weekday\", y=\"Reported_ratio\", data=perWeek[perWeek.Date_of_report >= '2020-09-01'],order=[\"Maandag\", \"Dinsdag\", \"Woensdag\", \"Donderdag\", \"Vrijdag\", \"Zaterdag\", \"Zondag\"], color='black', alpha=0.5)\n",
    "e.set(ylabel='Verhouding tov weekgemiddelde', title='Verhouding tussen positieve COVID-19 testen en de weekdag', xlabel='')\n",
    "plt.title(\"bron: RIVM update \" + (totals.Date_of_report.to_list()[-1]).strftime('%Y-%m-%d'), loc='right', fontsize=12, color='grey', y=0.01)\n",
    "#tuftefy(e)\n",
    "e.yaxis.grid(True)\n",
    "sns.despine(bottom=True)\n"
   ]
  },
  {
   "cell_type": "code",
   "execution_count": null,
   "metadata": {},
   "outputs": [],
   "source": [
    "fig = plt.gcf()\n",
    "fig.set_size_inches(15, 6)\n",
    "e = sns.countplot(x=\"weekday\", hue=\"AboveAverage\", data=dayToWeekAvg[dayToWeekAvg.Date_of_report >= '2020-09-01'], order=[\"Maandag\", \"Dinsdag\", \"Woensdag\", \"Donderdag\", \"Vrijdag\", \"Zaterdag\", \"Zondag\"])\n",
    "\n",
    "e.set(ylabel='Aantal weken', title='Aantal keer dag boven week gemiddelde', xlabel='Weekdag')\n",
    "plt.title(\"bron: RIVM update \" + (totals.Date_of_report.to_list()[-1]).strftime('%Y-%m-%d'), loc='right', fontsize=12, color='grey', y=0.0)\n",
    "e.yaxis.grid(True)\n",
    "sns.despine(bottom=True)"
   ]
  },
  {
   "cell_type": "code",
   "execution_count": null,
   "metadata": {},
   "outputs": [],
   "source": [
    "fig = plt.gcf()\n",
    "fig.set_size_inches(15, 6)\n",
    "ax = sns.lineplot(x='date', y='Reported_ratio', hue='weekday', style='weekday', linewidth=2, hue_order=['Maandag', 'Dinsdag', 'Woensdag', 'Donderdag', 'Vrijdag', 'Zaterdag', 'Zondag'], data=perWeek[perWeek.Date_of_report >= '2021-01-01'])\n",
    "ax.set_ylim(0.5,1.5)\n",
    "plt.axhline(y=0.8, ls=':', c='.8', linewidth=1, zorder=1)\n",
    "plt.axhline(y=1.0, ls='-', c='.85', linewidth=1, zorder=1)\n",
    "plt.axhline(y=1.2, ls=':', c='.8', linewidth=1, zorder=1)\n",
    "ax.xaxis.set_major_formatter(mdates.DateFormatter('%V'))\n",
    "ax.xaxis.set_major_locator(mdates.WeekdayLocator(byweekday=mdates.SUNDAY, interval=3))\n",
    "ax.set(ylabel='Verhouding tov weekgemiddelde', title='Verhouding tussen positieve COVID-19 testen en de weekdag', xlabel='Week')\n",
    "plt.legend(bbox_to_anchor=(1.05, 1), loc=2, borderaxespad=0.)\n",
    "tuftefy(ax)"
   ]
  },
  {
   "cell_type": "code",
   "execution_count": null,
   "metadata": {},
   "outputs": [],
   "source": [
    "fig = plt.gcf()\n",
    "fig.set_size_inches(15, 6)\n",
    "ax = sns.lineplot(x='date', y='RatioWeekAvg', hue='weekday', style='weekday', linewidth=2, hue_order=['Maandag', 'Dinsdag', 'Woensdag', 'Donderdag', 'Vrijdag', 'Zaterdag', 'Zondag'], data=dayToWeekAvg[dayToWeekAvg.Date_of_report >= '2021-01-01'])\n",
    "ax.set_ylim(0.5,1.5)\n",
    "plt.axhline(y=0.8, ls=':', c='.8', linewidth=1, zorder=1)\n",
    "plt.axhline(y=1.0, ls='-', c='.85', linewidth=1, zorder=1)\n",
    "plt.axhline(y=1.2, ls=':', c='.8', linewidth=1, zorder=1)\n",
    "ax.xaxis.set_major_formatter(mdates.DateFormatter('%V'))\n",
    "ax.xaxis.set_major_locator(mdates.WeekdayLocator(byweekday=mdates.SUNDAY, interval=3))\n",
    "ax.set(ylabel='Verhouding tov weekgemiddelde', title='Verhouding tussen positieve COVID-19 testen en de 7d gemiddelde', xlabel='Week')\n",
    "plt.legend(bbox_to_anchor=(1.05, 1), loc=2, borderaxespad=0.)\n",
    "tuftefy(ax)"
   ]
  },
  {
   "cell_type": "code",
   "execution_count": null,
   "metadata": {},
   "outputs": [],
   "source": [
    "\n",
    "fig = plt.figure()\n",
    "fig.set_size_inches(15, 10)\n",
    "#display(dayToWeekAvg[dayToWeekAvg.weekday == \"Dinsdag\"])\n",
    "\n",
    "ax = sns.lineplot(data=totals, x='Date_of_report', y='rolling', color='#004488', label='Aantal positief')\n",
    "plt.legend(bbox_to_anchor=(0.2, 1),borderaxespad=0)\n",
    "ax2 = ax.twinx()\n",
    "sns.lineplot(data=dayToWeekAvg[dayToWeekAvg.weekday == \"Dinsdag\"], x='Date_of_report', y='RatioWeekAvg', color='#ddaa33', label='Ratio dinsdag tov weekgemiddelde', ax = ax2)\n",
    "plt.legend(bbox_to_anchor=(0.9, 1),borderaxespad=0)\n",
    "#plt.axhline(y=0.8, ls=':', c='.8', linewidth=1, zorder=1)\n",
    "plt.axhline(y=1.0, ls='-', c='.85', linewidth=1, zorder=1)\n",
    "#plt.axhline(y=1.2, ls=':', c='.8', linewidth=1, zorder=1)\n",
    "#sns.lineplot(data=totals[totals.Date_of_report > '2020-06-01'], x='Date_of_report',y='rolling', color='red',  ax=ax2)\n",
    "ax.set_ylabel(\"Aantal testen\")\n",
    "ax2.set_ylabel(\"Positieve testen\")\n",
    "ax.set_xlabel(\"\")\n",
    "ax.set_title('Voortschrijdend gemiddelde (7d) relatie tot de dinsdag van de week', pad=30)\n",
    "#ax.xaxis.set_major_formatter(mdates.DateFormatter('%V'))\n",
    "ax.xaxis.set_major_formatter(mdates.ConciseDateFormatter(mdates.AutoDateLocator()))\n",
    "#ax.xaxis.set_major_locator(mdates.WeekdayLocator(byweekday=mdates.SUNDAY, interval=2))\n",
    "ax.set(ylim=(0, None))\n",
    "ax2.set(ylim=(0, None))\n",
    "#plt.axvline(date(2020,10,14), ls=\":\", c=\".5\")\n",
    "#plt.axvline(date(2020,12,18), ls=\":\", c=\".5\")\n",
    "#plt.axvline(date(2021,2,8), ls=\":\", c=\".5\")\n",
    "#plt.axhline(0.0, ls=\"-\", c=\".8\", zorder=1)\n",
    "#g = g.map(plt.axvline, x=date(2020,10,14), ls=\":\", c=\".5\")\n",
    "plt.title(\"bron: RIVM data t/m \" + (totals.Date_of_report.to_list()[-1]).strftime('%Y-%m-%d'), loc='right', fontsize=12, color='grey', y=0.01)\n",
    "\n",
    "\n",
    "tuftefy(ax2)\n",
    "tuftefy(ax)"
   ]
  },
  {
   "cell_type": "markdown",
   "metadata": {},
   "source": [
    "### Totals"
   ]
  },
  {
   "cell_type": "code",
   "execution_count": null,
   "metadata": {},
   "outputs": [],
   "source": [
    "fig = plt.figure()\n",
    "fig.set_size_inches(15, 10)\n",
    "\n",
    "#ax = sns.lineplot(data=totalPositiveTestRatio[totalPositiveTestRatio.date >= '2020-08-01'], x='date', y='total_7d', color='#004488', label='Aantal testen')\n",
    "\n",
    "ax = sns.lineplot(data=totalPositiveTestRatio, x='date', y='total_7d', color='#004488', label='Aantal testen')\n",
    "plt.legend(bbox_to_anchor=(0.2, 1),borderaxespad=0)\n",
    "ax2 = ax.twinx()\n",
    "#sns.lineplot(data=totalPositiveTestRatio[totalPositiveTestRatio.date >= '2020-08-01'], x='date', y='positive_7d', color='#ddaa33', label='Aantal positief', ax = ax2)\n",
    "sns.lineplot(data=totalPositiveTestRatio, x='date', y='positive_7d', color='#ddaa33', label='Aantal positief', ax = ax2)\n",
    "plt.legend(bbox_to_anchor=(0.9, 1),borderaxespad=0)\n",
    "#sns.lineplot(data=totals[totals.Date_of_report > '2020-06-01'], x='Date_of_report',y='rolling', color='red',  ax=ax2)\n",
    "ax.set_ylabel(\"Aantal testen\")\n",
    "ax2.set_ylabel(\"Positieve testen\")\n",
    "ax.set_xlabel(\"\")\n",
    "ax.set_title('Voortschrijdend gemiddelde (7d) van aantal uitgevoerde en positieve testen', pad=30)\n",
    "#ax.xaxis.set_major_formatter(mdates.DateFormatter('%V'))\n",
    "ax.xaxis.set_major_formatter(mdates.ConciseDateFormatter(mdates.AutoDateLocator()))\n",
    "#ax.xaxis.set_major_locator(mdates.WeekdayLocator(byweekday=mdates.SUNDAY, interval=2))\n",
    "ax.set(ylim=(0, None))\n",
    "ax2.set(ylim=(0, None))\n",
    "#plt.axvline(date(2020,10,14), ls=\":\", c=\".5\")\n",
    "#plt.axvline(date(2020,12,18), ls=\":\", c=\".5\")\n",
    "#plt.axvline(date(2021,2,8), ls=\":\", c=\".5\")\n",
    "#plt.axhline(0.0, ls=\"-\", c=\".8\", zorder=1)\n",
    "#g = g.map(plt.axvline, x=date(2020,10,14), ls=\":\", c=\".5\")\n",
    "plt.title(\"bron: Dashboard data t/m \" + (totalPositiveTestRatio.date.to_list()[-1]).strftime('%Y-%m-%d'), loc='right', fontsize=12, color='grey', y=0.0)\n",
    "\n",
    "\n",
    "tuftefy(ax)\n",
    "tuftefy(ax2)"
   ]
  }
 ],
 "metadata": {
  "interpreter": {
   "hash": "2be5faf79681da6f2a61fdfdd5405d65d042280f7fba6178067603e3a2925119"
  },
  "kernelspec": {
   "display_name": "Python 3.10.1 64-bit",
   "language": "python",
   "name": "python3"
  },
  "language_info": {
   "codemirror_mode": {
    "name": "ipython",
    "version": 3
   },
   "file_extension": ".py",
   "mimetype": "text/x-python",
   "name": "python",
   "nbconvert_exporter": "python",
   "pygments_lexer": "ipython3",
   "version": "3.10.1"
  },
  "orig_nbformat": 4
 },
 "nbformat": 4,
 "nbformat_minor": 2
}
