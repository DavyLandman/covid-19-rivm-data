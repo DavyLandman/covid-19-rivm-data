{
 "cells": [
  {
   "cell_type": "markdown",
   "metadata": {},
   "source": [
    "# Opnames per leeftijds plot\n",
    "\n",
    "Deze data is vrij schaars, qua updates en qua details. Dus roeien met de riemen die we hebben.\n",
    "\n",
    "## Python voorbereiden"
   ]
  },
  {
   "cell_type": "code",
   "execution_count": null,
   "metadata": {},
   "outputs": [],
   "source": [
    "import pandas as pd\n",
    "import numpy as np\n",
    "import seaborn as sns\n",
    "import matplotlib.dates as mdates\n",
    "from datetime import date,datetime,timedelta\n",
    "import matplotlib.pyplot as plt"
   ]
  },
  {
   "cell_type": "code",
   "execution_count": null,
   "metadata": {},
   "outputs": [],
   "source": [
    "sns.set_style(\"whitegrid\")\n",
    "sns.set_context(\"talk\", font_scale=1, rc={\"lines.linewidth\": 3, \"font.size\":10,\"axes.titlesize\":24,\"axes.labelsize\":18})\n",
    "sns.set_palette(sns.color_palette(['#CC6677', '#332288', '#DDCC77', '#117733', '#88CCEE', \\\n",
    "                    '#882255', '#44AA99', '#999933', '#AA4499', '#DDDDDD', \\\n",
    "                    '#000000']))\n",
    "\n",
    "\n",
    "\n",
    "def tuftefy(ax):\n",
    "    \"\"\"Remove spines and tick position markers to reduce ink.\"\"\"\n",
    "    # \n",
    "    ax.spines[\"top\"].set_visible(False)\n",
    "    ax.spines[\"right\"].set_visible(False)\n",
    "    ax.spines[\"left\"].set_visible(False)\n",
    "    ax.spines[\"bottom\"].set_visible(True)\n",
    "    ax.spines[\"bottom\"].set_color('grey')\n",
    "\n",
    "    ax.grid(color=\"w\", alpha=0.5)\n",
    "    ax.get_yaxis().grid(True)\n",
    "    ax.get_xaxis().grid(False)\n",
    "\n",
    "def fancy_titles(t1, t2, ax=None):\n",
    "  if ax:\n",
    "    ax.set_title(t1, loc='left', fontsize=18)\n",
    "    ax.set_title(t2, loc='right', fontsize=13, color='grey')\n",
    "  else:\n",
    "    plt.title(t1, loc='left', fontsize=18)\n",
    "    plt.title(t2, loc='right', fontsize=13, color='grey')\n",
    "\n"
   ]
  },
  {
   "cell_type": "markdown",
   "metadata": {},
   "source": [
    "# Date importeren en verwerken"
   ]
  },
  {
   "cell_type": "code",
   "execution_count": null,
   "metadata": {},
   "outputs": [],
   "source": [
    "\n",
    "opnames = pd.read_csv('https://data.rivm.nl/covid-19/COVID-19_ziekenhuis_ic_opnames_per_leeftijdsgroep.csv', sep=';', parse_dates=[\"Date_of_statistics_week_start\"])\n",
    "opnames"
   ]
  },
  {
   "cell_type": "code",
   "execution_count": null,
   "metadata": {},
   "outputs": [],
   "source": [
    "opnames2 = opnames.sort_values(by=[\"Age_group\", \"Date_of_statistics_week_start\"])\n",
    "#.rolling(window=7).mean().reset_index()\n",
    "opnames2['Hospital_admission_notification_7d'] = opnames2.Hospital_admission_notification.rolling(window=5).mean()\n",
    "opnames2 = opnames2[opnames2.Date_of_statistics_week_start > '2020-05-01']\n",
    "opnames2\n"
   ]
  },
  {
   "cell_type": "code",
   "execution_count": null,
   "metadata": {},
   "outputs": [],
   "source": [
    "opnames_nice = pd.read_csv(\"https://github.com/mzelst/covid-19/raw/master/data-nice/age/leeftijdsverdeling_datum_Klinisch_IC_long.csv\", parse_dates=[\"Datum\"])\n",
    "opnames_nice = opnames_nice[opnames_nice.Type == \"Klinisch\"].sort_values(\"Datum\")\n",
    "opnames_nice.drop(columns=['Type'], inplace=True)\n",
    "\n",
    "old_date = opnames_nice.Datum\n",
    "opnames_nice7 = opnames_nice.diff().rolling(window=14).mean()\n",
    "opnames_nice7['Datum'] = old_date\n",
    "opnames_nice7\n",
    "\n",
    "old_date = opnames_nice.Datum\n",
    "opnames_nice = opnames_nice.diff().rolling(window=35).mean()\n",
    "opnames_nice['Datum'] = old_date\n",
    "opnames_nice"
   ]
  },
  {
   "cell_type": "code",
   "execution_count": null,
   "metadata": {},
   "outputs": [],
   "source": [
    "groups = pd.DataFrame(np.array([\n",
    "    [\"0-14\", \"0-14\"], \n",
    "    [\"15-29\", \"15-19\"],\n",
    "    [\"15-29\", \"20-24\"],\n",
    "    [\"15-29\", \"25-29\"],\n",
    "    [\"30-44\", \"30-34\"],\n",
    "    [\"30-44\", \"35-39\"],\n",
    "    [\"30-44\", \"40-44\"],\n",
    "    [\"45-59\", \"45-49\"],\n",
    "    [\"45-59\", \"50-54\"],\n",
    "    [\"45-59\", \"55-49\"],\n",
    "    [\"60-74\", \"60-64\"],\n",
    "    [\"60-74\", \"65-69\"],\n",
    "    [\"60-74\", \"70-74\"],\n",
    "    [\"75+\", \"75-79\"],\n",
    "    [\"75+\", \"80-84\"],\n",
    "    [\"75+\", \"85-89\"],\n",
    "    [\"75+\", \"90+\"],\n",
    "    [\"Onbekend\", \"Unknown\"]\n",
    "]), columns=[\"Group\", \"Age_group\"])\n",
    "merged_opnames = opnames2.set_index('Age_group').join(groups.set_index('Age_group')).reset_index()\n",
    "merged_opnames = merged_opnames.groupby(by=['Date_of_statistics_week_start','Group']).sum().reset_index()\n",
    "merged_opnames"
   ]
  },
  {
   "cell_type": "code",
   "execution_count": null,
   "metadata": {},
   "outputs": [],
   "source": [
    "\n",
    "groups = pd.DataFrame(np.array([\n",
    "    [\"<30\", \"0-14\"], \n",
    "    [\"<30\", \"15-19\"],\n",
    "    [\"<30\", \"20-24\"],\n",
    "    [\"<30\", \"25-29\"],\n",
    "    [\"30+\", \"30-34\"],\n",
    "    [\"30+\", \"35-39\"],\n",
    "    [\"30+\", \"40-44\"],\n",
    "    [\"30+\", \"45-49\"],\n",
    "    [\"30+\", \"50-54\"],\n",
    "    [\"30+\", \"55-49\"],\n",
    "    [\"30+\", \"60-64\"],\n",
    "    [\"30+\", \"65-69\"],\n",
    "    [\"30+\", \"70-74\"],\n",
    "    [\"30+\", \"75-79\"],\n",
    "    [\"30+\", \"80-84\"],\n",
    "    [\"30+\", \"85-89\"],\n",
    "    [\"30+\", \"90+\"],\n",
    "    [\"30+\", \"Unknown\"]\n",
    "]), columns=[\"Group\", \"Age_group\"])\n",
    "merged_opnames2 = opnames2.set_index('Age_group').join(groups.set_index('Age_group')).reset_index()\n",
    "merged_opnames2 = merged_opnames2.groupby(by=['Date_of_statistics_week_start','Group']).sum().reset_index()\n",
    "merged_opnames2"
   ]
  },
  {
   "cell_type": "code",
   "execution_count": null,
   "metadata": {},
   "outputs": [],
   "source": [
    "opnames_nice['<30'] = opnames_nice['<20'] + opnames_nice['20 - 24'] + opnames_nice['25 - 29']\n",
    "opnames_nice['30 - 60'] = opnames_nice['30 - 34'] + opnames_nice['35 - 39'] + \\\n",
    "    opnames_nice['40 - 44'] + opnames_nice['45 - 49'] + \\\n",
    "    opnames_nice['50 - 54'] + opnames_nice['55 - 59']\n",
    "    \n",
    "opnames_nice['60+'] = opnames_nice['60 - 64'] + opnames_nice['65 - 69'] + \\\n",
    "    opnames_nice['70 - 74'] + opnames_nice['75 - 79'] + \\\n",
    "    opnames_nice['80 - 84'] + opnames_nice['85 - 89'] + \\\n",
    "    opnames_nice['>90']\n",
    "\n",
    "opnames_nice['30+'] = opnames_nice['30 - 60'] + opnames_nice['60+']\n",
    "\n",
    "opnames_nice7['<30'] = opnames_nice7['<20'] + opnames_nice7['20 - 24'] + opnames_nice7['25 - 29']\n",
    "opnames_nice7['30 - 60'] = opnames_nice7['30 - 34'] + opnames_nice7['35 - 39'] + \\\n",
    "    opnames_nice7['40 - 44'] + opnames_nice7['45 - 49'] + \\\n",
    "    opnames_nice7['50 - 54'] + opnames_nice7['55 - 59']\n",
    "    \n",
    "opnames_nice7['60+'] = opnames_nice7['60 - 64'] + opnames_nice7['65 - 69'] + \\\n",
    "    opnames_nice7['70 - 74'] + opnames_nice7['75 - 79'] + \\\n",
    "    opnames_nice7['80 - 84'] + opnames_nice7['85 - 89'] + \\\n",
    "    opnames_nice7['>90']\n",
    "\n",
    "opnames_nice7['30+'] = opnames_nice7['30 - 60'] + opnames_nice7['60+']\n"
   ]
  },
  {
   "cell_type": "markdown",
   "metadata": {},
   "source": [
    "## Plots RIVM data"
   ]
  },
  {
   "cell_type": "code",
   "execution_count": null,
   "metadata": {},
   "outputs": [],
   "source": [
    "fig = plt.figure()\n",
    "fig.set_size_inches(8, 6)\n",
    "\n",
    "ax = sns.lineplot(data=opnames2[opnames2.Age_group.isin([\"0-14\", \"15-19\", \"20-24\"])], x=\"Date_of_statistics_week_start\", y=\"Hospital_admission_notification_7d\", hue=\"Age_group\")\n",
    "ax.xaxis.set_major_formatter(mdates.ConciseDateFormatter(mdates.AutoDateLocator()))\n",
    "ax.set_xlabel('')\n",
    "ax.set_ylabel('Opnames')\n",
    "ax.set_title('Voortschrijdend gemiddelde (35d) van opnames <25', pad=30)\n",
    "plt.title(\"bron: RIVM update \" + opnames2.Date_of_statistics_week_start.max().strftime('%Y-%m-%d'), loc='right', fontsize=12, color='grey', y=0.0)\n",
    "tuftefy(ax)"
   ]
  },
  {
   "cell_type": "code",
   "execution_count": null,
   "metadata": {},
   "outputs": [],
   "source": [
    "fig = plt.figure()\n",
    "fig.set_size_inches(8, 6)\n",
    "\n",
    "ax = sns.lineplot(data=merged_opnames, x=\"Date_of_statistics_week_start\", y=\"Hospital_admission_notification_7d\", hue=\"Group\")\n",
    "ax.xaxis.set_major_formatter(mdates.ConciseDateFormatter(mdates.AutoDateLocator()))\n",
    "ax.set_xlabel('')\n",
    "ax.set_ylabel('Opnames')\n",
    "ax.set_title('Voortschrijdend gemiddelde (35d) van opnames', pad=30)\n",
    "plt.legend(bbox_to_anchor=(1.05, 1), loc=2, borderaxespad=0.)\n",
    "plt.title(\"bron: RIVM update \" + opnames2.Date_of_statistics_week_start.max().strftime('%Y-%m-%d'), loc='right', fontsize=12, color='grey', y=-0.01)\n",
    "tuftefy(ax)"
   ]
  },
  {
   "cell_type": "code",
   "execution_count": null,
   "metadata": {},
   "outputs": [],
   "source": [
    "fig = plt.figure()\n",
    "fig.set_size_inches(8, 6)\n",
    "\n",
    "ax = sns.lineplot(data=merged_opnames[merged_opnames.Group.isin([\"0-14\", \"15-29\"])], x=\"Date_of_statistics_week_start\", y=\"Hospital_admission_notification_7d\", hue=\"Group\")\n",
    "ax.xaxis.set_major_formatter(mdates.ConciseDateFormatter(mdates.AutoDateLocator()))\n",
    "ax.set_xlabel('')\n",
    "ax.set_ylabel('Opnames')\n",
    "ax.set_title('Voortschrijdend gemiddelde (35d) van opnames <30', pad=30)\n",
    "plt.axvline(date(2021,12,20), ls=\":\", c=\"#999933\")\n",
    "#plt.axvline(date(2021,2,8), ls=\":\", c=\"#aa4499\")\n",
    "plt.title(\"bron: RIVM update \" + merged_opnames.Date_of_statistics_week_start.max().strftime('%Y-%m-%d'), loc='right', fontsize=12, color='grey', y=-0.00)\n",
    "tuftefy(ax)"
   ]
  },
  {
   "cell_type": "code",
   "execution_count": null,
   "metadata": {},
   "outputs": [],
   "source": [
    "fig = plt.figure()\n",
    "fig.set_size_inches(15, 10)\n",
    "ax = sns.lineplot(data=merged_opnames2[merged_opnames2.Group==\"30+\"], color='#004488', x=\"Date_of_statistics_week_start\", y=\"Hospital_admission_notification_7d\", label=\"30+\")\n",
    "plt.legend(bbox_to_anchor=(0.2, 1),borderaxespad=0)\n",
    "ax2 = ax.twinx()\n",
    "sns.lineplot(data=merged_opnames2[merged_opnames2.Group==\"<30\"], color='#ddaa33', x=\"Date_of_statistics_week_start\", y=\"Hospital_admission_notification_7d\", label=\"< 30\", ax=ax2)\n",
    "plt.legend(bbox_to_anchor=(0.9, 1),borderaxespad=0)\n",
    "ax.xaxis.set_major_formatter(mdates.ConciseDateFormatter(mdates.AutoDateLocator()))\n",
    "ax.set_xlabel('')\n",
    "ax.set_ylabel('Opnames 30+')\n",
    "ax2.set_ylabel('Opnames < 30')\n",
    "ax.set_title('Voortschrijdend gemiddelde (35d) van opnames', pad=30)\n",
    "plt.title(\"bron: RIVM update \" + merged_opnames2.Date_of_statistics_week_start.max().strftime('%Y-%m-%d'), loc='right', fontsize=12, color='grey', y=-0.00)\n",
    "tuftefy(ax)\n",
    "tuftefy(ax2)\n"
   ]
  },
  {
   "cell_type": "markdown",
   "metadata": {},
   "source": [
    "## Plots NICE data"
   ]
  },
  {
   "cell_type": "code",
   "execution_count": null,
   "metadata": {},
   "outputs": [],
   "source": [
    "\n",
    "fig = plt.figure()\n",
    "fig.set_size_inches(15, 10)\n",
    "ax = sns.lineplot(data=opnames_nice, color='#004488', x=\"Datum\", y=\"30+\", label=\"30+\")\n",
    "plt.legend(bbox_to_anchor=(0.2, 1),borderaxespad=0)\n",
    "ax2 = ax.twinx()\n",
    "sns.lineplot(data=opnames_nice, color='#ddaa33', x=\"Datum\", y=\"<30\", label=\"< 30\", ax=ax2)\n",
    "plt.legend(bbox_to_anchor=(0.9, 1),borderaxespad=0)\n",
    "ax.xaxis.set_major_formatter(mdates.ConciseDateFormatter(mdates.AutoDateLocator()))\n",
    "ax.set_xlabel('')\n",
    "ax.set_ylabel('Opnames 30+')\n",
    "ax2.set_ylabel('Opnames < 30')\n",
    "ax.set_title('Voortschrijdend gemiddelde (35d) van opnames', pad=30)\n",
    "plt.title(\"bron: NICE \" + opnames_nice.Datum.max().strftime('%Y-%m-%d'), loc='right', fontsize=12, color='grey', y=-0.00)\n",
    "tuftefy(ax)\n",
    "tuftefy(ax2)"
   ]
  },
  {
   "cell_type": "code",
   "execution_count": null,
   "metadata": {},
   "outputs": [],
   "source": [
    "\n",
    "fig = plt.figure()\n",
    "fig.set_size_inches(15, 10)\n",
    "ax = sns.lineplot(data=opnames_nice, color='#228833', x=\"Datum\", y=\"60+\", label=\"60+\")\n",
    "plt.legend(bbox_to_anchor=(0.2, 1),borderaxespad=0)\n",
    "ax2 = ax.twinx()\n",
    "sns.lineplot(data=opnames_nice, color='#4477AA', x=\"Datum\", y=\"30 - 60\", label=\"30 - 60\", ax = ax2)\n",
    "sns.lineplot(data=opnames_nice, color='#66CCEE', x=\"Datum\", y=\"<30\", label=\"< 30\", ax=ax2)\n",
    "plt.legend(bbox_to_anchor=(0.9, 1),borderaxespad=0)\n",
    "ax.xaxis.set_major_formatter(mdates.ConciseDateFormatter(mdates.AutoDateLocator()))\n",
    "ax.set_xlabel('')\n",
    "ax.set_ylabel('Opnames 60+')\n",
    "ax2.set_ylabel('Opnames < 60')\n",
    "ax.set_title('Voortschrijdend gemiddelde (35d) van nieuwe opnames', pad=30)\n",
    "plt.title(\"bron: NICE \" + opnames_nice.Datum.max().strftime('%Y-%m-%d'), loc='right', fontsize=12, color='grey', y=-0.00)\n",
    "tuftefy(ax)\n",
    "tuftefy(ax2)"
   ]
  },
  {
   "cell_type": "code",
   "execution_count": null,
   "metadata": {},
   "outputs": [],
   "source": [
    "\n",
    "fig = plt.figure()\n",
    "fig.set_size_inches(15, 10)\n",
    "ax = sns.lineplot(data=opnames_nice7, color='#228833', x=\"Datum\", y=\"60+\", label=\"60+\")\n",
    "plt.legend(bbox_to_anchor=(0.2, 1),borderaxespad=0)\n",
    "ax2 = ax.twinx()\n",
    "sns.lineplot(data=opnames_nice7, color='#4477AA', x=\"Datum\", y=\"30 - 60\", label=\"30 - 60\", ax = ax2)\n",
    "sns.lineplot(data=opnames_nice7, color='#66CCEE', x=\"Datum\", y=\"<30\", label=\"< 30\", ax=ax2)\n",
    "plt.legend(bbox_to_anchor=(0.9, 1),borderaxespad=0)\n",
    "ax.xaxis.set_major_formatter(mdates.ConciseDateFormatter(mdates.AutoDateLocator()))\n",
    "ax.set_xlabel('')\n",
    "ax.set_ylabel('Opnames 60+')\n",
    "ax2.set_ylabel('Opnames < 60')\n",
    "ax.set_title('Voortschrijdend gemiddelde (14d) van nieuwe opnames', pad=30)\n",
    "plt.title(\"bron: NICE \" + opnames_nice.Datum.max().strftime('%Y-%m-%d'), loc='right', fontsize=12, color='grey', y=-0.00)\n",
    "tuftefy(ax)\n",
    "tuftefy(ax2)"
   ]
  },
  {
   "cell_type": "code",
   "execution_count": null,
   "metadata": {},
   "outputs": [],
   "source": [
    "fig = plt.figure()\n",
    "fig.set_size_inches(15, 10)\n",
    "ax = sns.lineplot(data=opnames_nice, color='#228833', x=\"Datum\", y=\"60+\", label=\"60+\")\n",
    "sns.lineplot(data=opnames_nice, color='#4477AA', x=\"Datum\", y=\"30 - 60\", label=\"30 - 60\")\n",
    "sns.lineplot(data=opnames_nice, color='#66CCEE', x=\"Datum\", y=\"<30\", label=\"< 30\")\n",
    "plt.legend(bbox_to_anchor=(0.2, 1),borderaxespad=0)\n",
    "ax.xaxis.set_major_formatter(mdates.ConciseDateFormatter(mdates.AutoDateLocator()))\n",
    "ax.set_title('Voortschrijdend gemiddelde (35d) van nieuwe opnames', pad=30)\n",
    "ax.set_xlabel('')\n",
    "ax.set_ylabel('Opnames')\n",
    "plt.title(\"bron: NICE \" + opnames_nice.Datum.max().strftime('%Y-%m-%d'), loc='right', fontsize=12, color='grey', y=-0.00)\n",
    "tuftefy(ax)"
   ]
  },
  {
   "cell_type": "code",
   "execution_count": null,
   "metadata": {},
   "outputs": [],
   "source": [
    "fig = plt.figure()\n",
    "fig.set_size_inches(15, 10)\n",
    "ax = sns.lineplot(data=opnames_nice7, color='#228833', x=\"Datum\", y=\"60+\", label=\"60+\")\n",
    "sns.lineplot(data=opnames_nice7, color='#4477AA', x=\"Datum\", y=\"30 - 60\", label=\"30 - 60\")\n",
    "sns.lineplot(data=opnames_nice7, color='#66CCEE', x=\"Datum\", y=\"<30\", label=\"< 30\")\n",
    "plt.legend(bbox_to_anchor=(0.2, 1),borderaxespad=0)\n",
    "ax.xaxis.set_major_formatter(mdates.ConciseDateFormatter(mdates.AutoDateLocator()))\n",
    "ax.set_title('Voortschrijdend gemiddelde (14d) van nieuwe opnames', pad=30)\n",
    "ax.set_xlabel('')\n",
    "ax.set_ylabel('Opnames')\n",
    "plt.title(\"bron: NICE \" + opnames_nice.Datum.max().strftime('%Y-%m-%d'), loc='right', fontsize=12, color='grey', y=-0.00)\n",
    "tuftefy(ax)"
   ]
  }
 ],
 "metadata": {
  "interpreter": {
   "hash": "2be5faf79681da6f2a61fdfdd5405d65d042280f7fba6178067603e3a2925119"
  },
  "kernelspec": {
   "display_name": "Python 3.10.0 64-bit",
   "name": "python3"
  },
  "language_info": {
   "codemirror_mode": {
    "name": "ipython",
    "version": 3
   },
   "file_extension": ".py",
   "mimetype": "text/x-python",
   "name": "python",
   "nbconvert_exporter": "python",
   "pygments_lexer": "ipython3",
   "version": "3.10.1"
  },
  "orig_nbformat": 4
 },
 "nbformat": 4,
 "nbformat_minor": 2
}
